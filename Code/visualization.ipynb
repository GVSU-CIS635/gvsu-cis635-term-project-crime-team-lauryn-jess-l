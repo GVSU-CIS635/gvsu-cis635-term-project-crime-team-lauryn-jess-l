{
 "cells": [
  {
   "cell_type": "code",
   "execution_count": null,
   "metadata": {},
   "outputs": [],
   "source": [
    "# Portland, Oregon\n",
    "map_center = [45.5231, -122.6765]\n",
    "heatmap_map = folium.Map(location=map_center, zoom_start=12)\n",
    "\n",
    "mercator_data = pd.DataFrame(columns=['lon', 'lat'])\n",
    "\n",
    "# Convert x, y coordinates to longitude, latitude\n",
    "mercator_data['lon'], mercator_data['lat'] = folium.utilities.mercator_transform(data['x_coordinate'], data['y_coordinate'])\n",
    "\n",
    "\n",
    "\n",
    "# Add heatmap\n",
    "# heat_data = [[point['lat'], point['lon'], point['value']] for index, point in data.iterrows()]\n",
    "# HeatMap(heat_data, radius=15, blur=10).add_to(heatmap_map)\n",
    "\n",
    "# # heatmap_map.save(\"heatmap.html\")\n",
    "# heatmap_map"
   ]
  }
 ],
 "metadata": {
  "language_info": {
   "name": "python"
  }
 },
 "nbformat": 4,
 "nbformat_minor": 2
}
